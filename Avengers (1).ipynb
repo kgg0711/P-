{
 "cells": [
  {
   "cell_type": "code",
   "execution_count": 17,
   "id": "df23647e-89cd-4e17-8714-974772cacd37",
   "metadata": {},
   "outputs": [],
   "source": [
    "import os\n",
    "import numpy as np\n",
    "import pandas as pd\n",
    "import matplotlib.pyplot as plt\n",
    "from transformers import AutoTokenizer, AutoModelForSequenceClassification\n",
    "import torch\n",
    "from sklearn.preprocessing import MinMaxScaler\n",
    "from sklearn.model_selection import train_test_split\n",
    "from tensorflow.keras.models import Sequential\n",
    "from tensorflow.keras.layers import GRU, Dense, Dropout\n",
    "from tensorflow.keras.callbacks import EarlyStopping\n",
    "from tensorflow.keras.optimizers import Adam\n",
    "import requests"
   ]
  },
  {
   "cell_type": "code",
   "execution_count": 18,
   "id": "7dacba6c-5fc9-4ab6-9be8-d52499a318e2",
   "metadata": {},
   "outputs": [],
   "source": [
    "plt.rcParams['font.family'] = 'Malgun Gothic'  # Windows: 'Malgun Gothic', MacOS: 'AppleGothic', Linux: 'NanumGothic'\n",
    "plt.rcParams['axes.unicode_minus'] = False     # 그래프에서 마이너스 기호 깨짐 방지"
   ]
  },
  {
   "cell_type": "code",
   "execution_count": 19,
   "id": "ce7b4291-f667-40d6-9e82-2b0a5208e89e",
   "metadata": {},
   "outputs": [],
   "source": [
    "# 네이버 API 인증 정보\n",
    "client_id = 'YaKyDrFyIZDRfIiRAwBj'  # 사용자 아이디\n",
    "client_secret = 'hknmr5WHGm'  # 사용자 시크릿"
   ]
  },
  {
   "cell_type": "code",
   "execution_count": 20,
   "id": "a31e77c0-e303-4457-a5ab-9a7b3beef4ac",
   "metadata": {},
   "outputs": [],
   "source": [
    "# 업비트 데이터를 가져오는 함수\n",
    "def fetch_upbit_data(market=\"KRW-BTC\", count=200):\n",
    "    url = \"https://api.upbit.com/v1/candles/days\"\n",
    "    params = {\"market\": market, \"count\": count}\n",
    "    response = requests.get(url, params=params)\n",
    "\n",
    "    if response.status_code != 200:\n",
    "        print(f\"업비트 API에서 데이터를 가져오지 못했습니다. 상태 코드: {response.status_code}\")\n",
    "        return None\n",
    "\n",
    "    data = response.json()\n",
    "    df = pd.DataFrame(data)\n",
    "    df = df[[\"candle_date_time_kst\", \"trade_price\"]]\n",
    "    df.columns = [\"date\", \"price\"]\n",
    "    df[\"date\"] = pd.to_datetime(df[\"date\"]).dt.date\n",
    "    df.sort_values(by=\"date\", inplace=True)\n",
    "    return df"
   ]
  },
  {
   "cell_type": "code",
   "execution_count": 21,
   "id": "24419aed-1abf-4e12-93ea-8b7b21f622c4",
   "metadata": {},
   "outputs": [],
   "source": [
    "# 뉴스 데이터를 가져오는 함수\n",
    "def fetch_news_data(query, display=10):\n",
    "    url = f\"https://openapi.naver.com/v1/search/news.json?query={query}&display={display}\"\n",
    "    headers = {\n",
    "        \"X-Naver-Client-Id\": client_id,\n",
    "        \"X-Naver-Client-Secret\": client_secret\n",
    "    }\n",
    "    response = requests.get(url, headers=headers)\n",
    "\n",
    "    if response.status_code != 200:\n",
    "        print(f\"뉴스 API에서 데이터를 가져오지 못했습니다. 상태 코드: {response.status_code}\")\n",
    "        return None\n",
    "\n",
    "    data = response.json()\n",
    "    return pd.DataFrame(data['items'])"
   ]
  },
  {
   "cell_type": "code",
   "execution_count": 22,
   "id": "205641ae-e957-469e-9e74-8171e12d9ec7",
   "metadata": {},
   "outputs": [],
   "source": [
    "# 감정 분석을 위한 함수\n",
    "def analyze_sentiment(texts):\n",
    "    tokenizer = AutoTokenizer.from_pretrained(\"nlptown/bert-base-multilingual-uncased-sentiment\")\n",
    "    model = AutoModelForSequenceClassification.from_pretrained(\"nlptown/bert-base-multilingual-uncased-sentiment\")\n",
    "    sentiments = []\n",
    "\n",
    "    for text in texts:\n",
    "        inputs = tokenizer(text, return_tensors=\"pt\", truncation=True, padding=True, max_length=512)\n",
    "        outputs = model(**inputs)\n",
    "        sentiment = torch.argmax(outputs.logits, dim=1).item() + 1  # 감정 점수: 1~5\n",
    "        sentiments.append(sentiment)\n",
    "\n",
    "    return sentiments"
   ]
  },
  {
   "cell_type": "code",
   "execution_count": 23,
   "id": "404dccf3-1709-4c86-ab0f-ed8834ad5e54",
   "metadata": {},
   "outputs": [],
   "source": [
    "# 멀티모달 데이터 생성 함수\n",
    "def create_multimodal_sequences(prices, sentiments, seq_length):\n",
    "    sequences = []\n",
    "    labels = []\n",
    "    for i in range(len(prices) - seq_length):\n",
    "        seq = np.column_stack((prices[i:i + seq_length], sentiments[i:i + seq_length]))\n",
    "        label = prices[i + seq_length]\n",
    "        sequences.append(seq)\n",
    "        labels.append(label)\n",
    "    return np.array(sequences), np.array(labels)"
   ]
  },
  {
   "cell_type": "code",
   "execution_count": 24,
   "id": "528ae450-f055-4d1e-ba95-944288278fbb",
   "metadata": {},
   "outputs": [],
   "source": [
    "# BTC/KRW 시장 데이터 가져오기\n",
    "df_price = fetch_upbit_data()\n",
    "if df_price is None:\n",
    "    raise ValueError(\"업비트 데이터를 가져오지 못했습니다.\")"
   ]
  },
  {
   "cell_type": "code",
   "execution_count": 25,
   "id": "d5ae3f65-ca99-467e-8e38-9178e77a33b4",
   "metadata": {},
   "outputs": [],
   "source": [
    "# 뉴스 데이터 가져오기\n",
    "news_df = fetch_news_data(\"비트코인\")\n",
    "if news_df is None:\n",
    "    raise ValueError(\"뉴스 데이터를 가져오지 못했습니다.\")"
   ]
  },
  {
   "cell_type": "code",
   "execution_count": 26,
   "id": "f36b7379-c349-4be1-8c02-9a2f195a7242",
   "metadata": {},
   "outputs": [],
   "source": [
    "# 뉴스 데이터 날짜별 처리\n",
    "news_df['pubDate'] = pd.to_datetime(news_df['pubDate'])  # 뉴스 데이터의 날짜 열\n",
    "news_df['date'] = news_df['pubDate'].dt.date  # 날짜만 추출\n",
    "news_df['sentiment'] = analyze_sentiment(news_df['title'])  # 뉴스 제목 감정 분석"
   ]
  },
  {
   "cell_type": "code",
   "execution_count": 27,
   "id": "a01a0c4e-2470-40db-9dda-d9c28288abf4",
   "metadata": {},
   "outputs": [],
   "source": [
    "# 날짜별 평균 감정 점수 계산\n",
    "sentiment_by_date = news_df.groupby('date')['sentiment'].mean().reset_index()\n",
    "sentiment_by_date.columns = ['date', 'average_sentiment']"
   ]
  },
  {
   "cell_type": "code",
   "execution_count": 28,
   "id": "1f4118be-9d5e-49e9-af10-f688fc2f4d30",
   "metadata": {},
   "outputs": [
    {
     "name": "stderr",
     "output_type": "stream",
     "text": [
      "C:\\Users\\kgg07\\AppData\\Local\\Temp\\ipykernel_24280\\1982430085.py:3: FutureWarning: A value is trying to be set on a copy of a DataFrame or Series through chained assignment using an inplace method.\n",
      "The behavior will change in pandas 3.0. This inplace method will never work because the intermediate object on which we are setting values always behaves as a copy.\n",
      "\n",
      "For example, when doing 'df[col].method(value, inplace=True)', try using 'df.method({col: value}, inplace=True)' or df[col] = df[col].method(value) instead, to perform the operation inplace on the original object.\n",
      "\n",
      "\n",
      "  merged_df['average_sentiment'].fillna(2.5, inplace=True)  # 결측치는 중립 값으로 채움\n"
     ]
    }
   ],
   "source": [
    "# 감정 점수 병합\n",
    "merged_df = pd.merge(df_price, sentiment_by_date, on='date', how='left')\n",
    "merged_df['average_sentiment'].fillna(2.5, inplace=True)  # 결측치는 중립 값으로 채움"
   ]
  },
  {
   "cell_type": "code",
   "execution_count": 29,
   "id": "f94acb73-c3bd-40c2-bc8a-02567ca14639",
   "metadata": {},
   "outputs": [],
   "source": [
    "# 데이터 스케일링\n",
    "scaler = MinMaxScaler()\n",
    "merged_df['scaled_price'] = scaler.fit_transform(merged_df['price'].values.reshape(-1, 1))\n",
    "merged_df['scaled_sentiment'] = scaler.fit_transform(merged_df['average_sentiment'].values.reshape(-1, 1))"
   ]
  },
  {
   "cell_type": "code",
   "execution_count": 30,
   "id": "99082efc-a38f-41cc-a2d1-2d7fab1052e7",
   "metadata": {},
   "outputs": [],
   "source": [
    "# 멀티모달 데이터 준비\n",
    "sequence_length = 10\n",
    "X, y = create_multimodal_sequences(\n",
    "    merged_df['scaled_price'].values,\n",
    "    merged_df['scaled_sentiment'].values,\n",
    "    sequence_length\n",
    ")"
   ]
  },
  {
   "cell_type": "code",
   "execution_count": 31,
   "id": "3f95f8e7-7b05-4297-a18d-a41f1e5731ab",
   "metadata": {},
   "outputs": [],
   "source": [
    "X_train, X_test, y_train, y_test = train_test_split(X, y, test_size=0.2, random_state=42)"
   ]
  },
  {
   "cell_type": "code",
   "execution_count": 32,
   "id": "5514e74b-656b-4daf-9cae-8cf731616be6",
   "metadata": {},
   "outputs": [
    {
     "name": "stderr",
     "output_type": "stream",
     "text": [
      "C:\\Users\\kgg07\\anaconda3\\envs\\learning3\\Lib\\site-packages\\keras\\src\\layers\\rnn\\rnn.py:200: UserWarning: Do not pass an `input_shape`/`input_dim` argument to a layer. When using Sequential models, prefer using an `Input(shape)` object as the first layer in the model instead.\n",
      "  super().__init__(**kwargs)\n"
     ]
    }
   ],
   "source": [
    "# GRU 모델 생성\n",
    "model = Sequential([\n",
    "    GRU(128, input_shape=(sequence_length, 2), return_sequences=True),\n",
    "    Dropout(0.2),\n",
    "    GRU(64),\n",
    "    Dropout(0.2),\n",
    "    Dense(1)\n",
    "])"
   ]
  },
  {
   "cell_type": "code",
   "execution_count": 33,
   "id": "1f3897d7-4b08-4a2a-ba29-91464ba90831",
   "metadata": {},
   "outputs": [],
   "source": [
    "model.compile(optimizer=Adam(learning_rate=0.001), loss='mse')"
   ]
  },
  {
   "cell_type": "code",
   "execution_count": 34,
   "id": "0a83b2de-aec5-4710-91e8-3ec310faaffa",
   "metadata": {},
   "outputs": [
    {
     "name": "stdout",
     "output_type": "stream",
     "text": [
      "Epoch 1/20\n",
      "\u001b[1m10/10\u001b[0m \u001b[32m━━━━━━━━━━━━━━━━━━━━\u001b[0m\u001b[37m\u001b[0m \u001b[1m9s\u001b[0m 143ms/step - loss: 0.0850 - val_loss: 0.0197\n",
      "Epoch 2/20\n",
      "\u001b[1m10/10\u001b[0m \u001b[32m━━━━━━━━━━━━━━━━━━━━\u001b[0m\u001b[37m\u001b[0m \u001b[1m0s\u001b[0m 38ms/step - loss: 0.0133 - val_loss: 0.0087\n",
      "Epoch 3/20\n",
      "\u001b[1m10/10\u001b[0m \u001b[32m━━━━━━━━━━━━━━━━━━━━\u001b[0m\u001b[37m\u001b[0m \u001b[1m1s\u001b[0m 35ms/step - loss: 0.0062 - val_loss: 0.0037\n",
      "Epoch 4/20\n",
      "\u001b[1m10/10\u001b[0m \u001b[32m━━━━━━━━━━━━━━━━━━━━\u001b[0m\u001b[37m\u001b[0m \u001b[1m0s\u001b[0m 30ms/step - loss: 0.0055 - val_loss: 0.0029\n",
      "Epoch 5/20\n",
      "\u001b[1m10/10\u001b[0m \u001b[32m━━━━━━━━━━━━━━━━━━━━\u001b[0m\u001b[37m\u001b[0m \u001b[1m0s\u001b[0m 29ms/step - loss: 0.0047 - val_loss: 0.0024\n",
      "Epoch 6/20\n",
      "\u001b[1m10/10\u001b[0m \u001b[32m━━━━━━━━━━━━━━━━━━━━\u001b[0m\u001b[37m\u001b[0m \u001b[1m0s\u001b[0m 32ms/step - loss: 0.0048 - val_loss: 0.0024\n",
      "Epoch 7/20\n",
      "\u001b[1m10/10\u001b[0m \u001b[32m━━━━━━━━━━━━━━━━━━━━\u001b[0m\u001b[37m\u001b[0m \u001b[1m1s\u001b[0m 32ms/step - loss: 0.0054 - val_loss: 0.0025\n",
      "Epoch 8/20\n",
      "\u001b[1m10/10\u001b[0m \u001b[32m━━━━━━━━━━━━━━━━━━━━\u001b[0m\u001b[37m\u001b[0m \u001b[1m0s\u001b[0m 35ms/step - loss: 0.0039 - val_loss: 0.0028\n",
      "Epoch 9/20\n",
      "\u001b[1m10/10\u001b[0m \u001b[32m━━━━━━━━━━━━━━━━━━━━\u001b[0m\u001b[37m\u001b[0m \u001b[1m0s\u001b[0m 28ms/step - loss: 0.0040 - val_loss: 0.0030\n",
      "Epoch 10/20\n",
      "\u001b[1m10/10\u001b[0m \u001b[32m━━━━━━━━━━━━━━━━━━━━\u001b[0m\u001b[37m\u001b[0m \u001b[1m0s\u001b[0m 33ms/step - loss: 0.0033 - val_loss: 0.0024\n"
     ]
    }
   ],
   "source": [
    "# 모델 학습\n",
    "history = model.fit(\n",
    "    X_train, y_train,\n",
    "    validation_data=(X_test, y_test),\n",
    "    epochs=20,\n",
    "    batch_size=16,\n",
    "    callbacks=[EarlyStopping(patience=5, restore_best_weights=True)]\n",
    ")"
   ]
  },
  {
   "cell_type": "code",
   "execution_count": 35,
   "id": "65b5323d-248d-449b-8dbc-5fef427ddb49",
   "metadata": {},
   "outputs": [
    {
     "name": "stdout",
     "output_type": "stream",
     "text": [
      "\u001b[1m2/2\u001b[0m \u001b[32m━━━━━━━━━━━━━━━━━━━━\u001b[0m\u001b[37m\u001b[0m \u001b[1m0s\u001b[0m 53ms/step - loss: 0.0025\n",
      "테스트 손실: 0.0024032623041421175\n"
     ]
    }
   ],
   "source": [
    "# 모델 평가\n",
    "loss = model.evaluate(X_test, y_test)\n",
    "print(f\"테스트 손실: {loss}\")"
   ]
  },
  {
   "cell_type": "code",
   "execution_count": 36,
   "id": "838299e0-b325-4939-bf90-a7651ae4345c",
   "metadata": {},
   "outputs": [
    {
     "name": "stdout",
     "output_type": "stream",
     "text": [
      "\u001b[1m2/2\u001b[0m \u001b[32m━━━━━━━━━━━━━━━━━━━━\u001b[0m\u001b[37m\u001b[0m \u001b[1m1s\u001b[0m 720ms/step\n"
     ]
    }
   ],
   "source": [
    "# 예측값과 실제값 비교\n",
    "predictions = model.predict(X_test)\n",
    "original_scale_predictions = scaler.inverse_transform(predictions)\n",
    "original_scale_y_test = scaler.inverse_transform(y_test.reshape(-1, 1))"
   ]
  },
  {
   "cell_type": "code",
   "execution_count": 37,
   "id": "3b0fa4f6-7a5d-438f-a9d7-1486fc9c6a0f",
   "metadata": {},
   "outputs": [
    {
     "name": "stdout",
     "output_type": "stream",
     "text": [
      "샘플 예측값과 실제값:\n",
      "예측값: 2.78, 실제값: 2.75\n",
      "예측값: 2.77, 실제값: 2.77\n",
      "예측값: 2.55, 실제값: 2.55\n",
      "예측값: 2.53, 실제값: 2.56\n",
      "예측값: 2.52, 실제값: 2.53\n"
     ]
    }
   ],
   "source": [
    "print(\"샘플 예측값과 실제값:\")\n",
    "for pred, true in zip(original_scale_predictions[:5], original_scale_y_test[:5]):\n",
    "    print(f\"예측값: {pred[0]:.2f}, 실제값: {true[0]:.2f}\")"
   ]
  },
  {
   "cell_type": "code",
   "execution_count": 38,
   "id": "1bf7008e-e015-48fb-9c12-d9c55b5c2d16",
   "metadata": {},
   "outputs": [
    {
     "data": {
      "image/png": "[encoded data removed]",
      "text/plain": [
       "<Figure size 640x480 with 1 Axes>"
      ]
     },
     "metadata": {},
     "output_type": "display_data"
    }
   ],
   "source": [
    "# 학습 기록 그래프\n",
    "plt.plot(history.history['loss'], label='훈련 손실')\n",
    "plt.plot(history.history['val_loss'], label='검증 손실')\n",
    "plt.legend()\n",
    "plt.show()"
   ]
  },
  {
   "cell_type": "code",
   "execution_count": null,
   "id": "d5a81bd5-c61a-42b4-98bc-152f5098aae3",
   "metadata": {},
   "outputs": [],
   "source": []
  }
 ],
 "metadata": {
  "kernelspec": {
   "display_name": "Python 3 (ipykernel)",
   "language": "python",
   "name": "python3"
  },
  "language_info": {
   "codemirror_mode": {
    "name": "ipython",
    "version": 3
   },
   "file_extension": ".py",
   "mimetype": "text/x-python",
   "name": "python",
   "nbconvert_exporter": "python",
   "pygments_lexer": "ipython3",
   "version": "3.12.4"
  }
 },
 "nbformat": 4,
 "nbformat_minor": 5
}
