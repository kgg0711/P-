{
 "cells": [
  {
   "cell_type": "code",
   "execution_count": 65,
   "id": "5f30e0ab-b25e-495b-8501-aa3f373ca033",
   "metadata": {},
   "outputs": [],
   "source": [
    "import os\n",
    "import numpy as np\n",
    "import pandas as pd\n",
    "import matplotlib.pyplot as plt\n",
    "import matplotlib.ticker as ticker\n",
    "from transformers import AutoTokenizer, AutoModelForSequenceClassification\n",
    "import torch\n",
    "from sklearn.preprocessing import MinMaxScaler\n",
    "from sklearn.model_selection import train_test_split\n",
    "from tensorflow.keras.models import Sequential\n",
    "from tensorflow.keras.layers import GRU, Dense, Dropout\n",
    "from tensorflow.keras.callbacks import EarlyStopping\n",
    "from tensorflow.keras.optimizers import Adam\n",
    "import requests\n",
    "from bs4 import BeautifulSoup"
   ]
  },
  {
   "cell_type": "code",
   "execution_count": 66,
   "id": "a94acb15-ab0c-45cb-b23c-504673b3e4cf",
   "metadata": {},
   "outputs": [],
   "source": [
    "# 그래프 폰트 설정\n",
    "plt.rcParams['font.family'] = 'Malgun Gothic'\n",
    "plt.rcParams['axes.unicode_minus'] = False"
   ]
  },
  {
   "cell_type": "code",
   "execution_count": 67,
   "id": "ae342bd6-bd4f-46e6-8391-5786c4a0b3ec",
   "metadata": {},
   "outputs": [],
   "source": [
    "# 네이버 API 인증 정보\n",
    "client_id = 'YaKyDrFyIZDRfIiRAwBj'\n",
    "client_secret = 'hknmr5WHGm'"
   ]
  },
  {
   "cell_type": "code",
   "execution_count": 68,
   "id": "f692b609-cb09-4fff-9ea8-e38b7c996643",
   "metadata": {},
   "outputs": [],
   "source": [
    "# 업비트 데이터를 가져오는 함수\n",
    "def fetch_upbit_data(market=\"KRW-BTC\", count=200):\n",
    "    url = \"https://api.upbit.com/v1/candles/days\"\n",
    "    params = {\"market\": market, \"count\": count}\n",
    "    response = requests.get(url, params=params)\n",
    "\n",
    "    if response.status_code != 200:\n",
    "        print(f\"업비트 API에서 데이터를 가져오지 못했습니다. 상태 코드: {response.status_code}\")\n",
    "        return None\n",
    "\n",
    "    data = response.json()\n",
    "    df = pd.DataFrame(data)\n",
    "    df = df[[\"candle_date_time_kst\", \"trade_price\"]]\n",
    "    df.columns = [\"date\", \"price\"]\n",
    "    df[\"date\"] = pd.to_datetime(df[\"date\"]).dt.date\n",
    "    df.sort_values(by=\"date\", inplace=True)\n",
    "    return df"
   ]
  },
  {
   "cell_type": "code",
   "execution_count": 69,
   "id": "5c6d5826-8aad-4cf1-99a7-5cb2b2bcda5f",
   "metadata": {},
   "outputs": [],
   "source": [
    "# 뉴스 데이터를 가져오는 함수\n",
    "def fetch_news_data(query, display=10):\n",
    "    url = f\"https://openapi.naver.com/v1/search/news.json?query={query}&display={display}\"\n",
    "    headers = {\n",
    "        \"X-Naver-Client-Id\": client_id,\n",
    "        \"X-Naver-Client-Secret\": client_secret\n",
    "    }\n",
    "    response = requests.get(url, headers=headers)\n",
    "\n",
    "    if response.status_code != 200:\n",
    "        print(f\"뉴스 API에서 데이터를 가져오지 못했습니다. 상태 코드: {response.status_code}\")\n",
    "        return None\n",
    "\n",
    "    data = response.json()\n",
    "    return pd.DataFrame(data['items'])"
   ]
  },
  {
   "cell_type": "code",
   "execution_count": 70,
   "id": "4d4d88e3-0b64-4b81-9ed7-d5634670fca6",
   "metadata": {},
   "outputs": [],
   "source": [
    "# 감정 분석을 위한 함수\n",
    "def analyze_sentiment(texts):\n",
    "    tokenizer = AutoTokenizer.from_pretrained(\"nlptown/bert-base-multilingual-uncased-sentiment\")\n",
    "    model = AutoModelForSequenceClassification.from_pretrained(\"nlptown/bert-base-multilingual-uncased-sentiment\")\n",
    "    sentiments = []\n",
    "\n",
    "    for text in texts:\n",
    "        inputs = tokenizer(text, return_tensors=\"pt\", truncation=True, padding=True, max_length=512)\n",
    "        outputs = model(**inputs)\n",
    "        sentiment = torch.argmax(outputs.logits, dim=1).item() + 1  # 감정 점수: 1~5\n",
    "        sentiments.append(sentiment)\n",
    "\n",
    "    return sentiments"
   ]
  },
  {
   "cell_type": "code",
   "execution_count": 71,
   "id": "07450c66-2bce-43aa-b8ab-3d718a4bf4dc",
   "metadata": {},
   "outputs": [],
   "source": [
    "# URL에서 뉴스 제목과 본문을 크롤링하는 함수\n",
    "def crawl_additional_news(url):\n",
    "    response = requests.get(url)\n",
    "    if response.status_code != 200:\n",
    "        print(f\"뉴스 크롤링 실패: 상태 코드 {response.status_code}\")\n",
    "        return None, None\n",
    "\n",
    "    soup = BeautifulSoup(response.text, \"html.parser\")\n",
    "\n",
    "    # 뉴스 제목 크롤링\n",
    "    title_tag = soup.find(\"h1\")  # 실제 태그와 클래스명을 확인 후 수정\n",
    "    if title_tag is None:\n",
    "        title = \"제목 없음\"\n",
    "    else:\n",
    "        title = title_tag.text.strip()\n",
    "\n",
    "    # 뉴스 본문 크롤링\n",
    "    content_tag = soup.find(\"div\", class_=\"content\")  # 실제 태그와 클래스명을 확인 후 수정\n",
    "    if content_tag is None:\n",
    "        content = \"본문 없음\"\n",
    "    else:\n",
    "        content = content_tag.text.strip()\n",
    "\n",
    "    return title, content"
   ]
  },
  {
   "cell_type": "code",
   "execution_count": 72,
   "id": "6872811d-7ccf-4d5d-8ad1-466a8901915d",
   "metadata": {},
   "outputs": [],
   "source": [
    "# BTC/KRW 시장 데이터 가져오기\n",
    "df_price = fetch_upbit_data()\n",
    "if df_price is None:\n",
    "    raise ValueError(\"업비트 데이터를 가져오지 못했습니다.\")"
   ]
  },
  {
   "cell_type": "code",
   "execution_count": 73,
   "id": "53c9be21-1967-4412-9c39-d8ba154bc030",
   "metadata": {},
   "outputs": [],
   "source": [
    "# 뉴스 데이터 가져오기\n",
    "news_df = fetch_news_data(\"비트코인\")\n",
    "if news_df is None:\n",
    "    raise ValueError(\"뉴스 데이터를 가져오지 못했습니다.\")"
   ]
  },
  {
   "cell_type": "code",
   "execution_count": 74,
   "id": "cb324ae9-4d2d-4da9-a428-ca0c87775a48",
   "metadata": {},
   "outputs": [],
   "source": [
    "# 뉴스 데이터 날짜별 처리\n",
    "news_df['pubDate'] = pd.to_datetime(news_df['pubDate'], errors='coerce')\n",
    "news_df['date'] = news_df['pubDate'].dt.date\n",
    "news_df = news_df.dropna(subset=['date'])"
   ]
  },
  {
   "cell_type": "code",
   "execution_count": 75,
   "id": "d84fa7ef-f925-4942-af4f-fb83ec4c62e8",
   "metadata": {},
   "outputs": [],
   "source": [
    "# 감정 분석 수행\n",
    "news_df['sentiment'] = analyze_sentiment(news_df['title'])"
   ]
  },
  {
   "cell_type": "code",
   "execution_count": 76,
   "id": "46d8a24f-6032-4bc4-a579-6ae19c6e19a3",
   "metadata": {},
   "outputs": [],
   "source": [
    "# 크롤링할 뉴스 URL 리스트\n",
    "news_urls = [\n",
    "    \"https://www.g-enews.com/ko-kr/news/article/news_all/202312031530096281e7e8286d56_1/article.html\",\n",
    "    \"https://www.yna.co.kr/view/AKR20231007023200002?input=1195m\",\n",
    "    \"https://www.hankyung.com/article/2023100952301\",\n",
    "    # 추가 URL을 여기에 입력 가능\n",
    "]"
   ]
  },
  {
   "cell_type": "code",
   "execution_count": 77,
   "id": "456a73e3-32be-438e-bc1f-e119ccf2f20a",
   "metadata": {},
   "outputs": [
    {
     "name": "stdout",
     "output_type": "stream",
     "text": [
      "추가 뉴스 제목: 일론 머스크 관련 ‘밈 토큰’ 급등…가상화폐 생태계 흔들까\n",
      "추가 뉴스 감정 점수: 3\n",
      "추가 뉴스 제목: 상반기 국내 가상자산 시총 28조…비트코인 등 회복세에 46%↑\n",
      "추가 뉴스 감정 점수: 1\n",
      "추가 뉴스 제목: 금융\n",
      "추가 뉴스 감정 점수: 4\n"
     ]
    }
   ],
   "source": [
    "#추가 뉴스 크롤링 및 데이터 추가\n",
    "for url in news_urls:\n",
    "    additional_title, additional_content = crawl_additional_news(url)\n",
    "    if additional_title:\n",
    "        additional_sentiment = analyze_sentiment([additional_title])[0]\n",
    "        print(f\"추가 뉴스 제목: {additional_title}\")\n",
    "        print(f\"추가 뉴스 감정 점수: {additional_sentiment}\")\n",
    "        # 추가된 뉴스 데이터를 기존 데이터프레임에 병합\n",
    "        news_df = pd.concat([news_df, pd.DataFrame({\"date\": [pd.to_datetime(\"2023-12-03\").date()],\n",
    "                                                    \"title\": [additional_title],\n",
    "                                                    \"sentiment\": [additional_sentiment]})], ignore_index=True)\n"
   ]
  },
  {
   "cell_type": "code",
   "execution_count": 78,
   "id": "90d59d65-a09c-4c43-92a9-b3517717a028",
   "metadata": {},
   "outputs": [],
   "source": [
    "# 날짜별 평균 감정 점수 계산\n",
    "sentiment_by_date = news_df.groupby('date')['sentiment'].mean().reset_index()\n",
    "sentiment_by_date.columns = ['date', 'average_sentiment']"
   ]
  },
  {
   "cell_type": "code",
   "execution_count": 79,
   "id": "edf7f9be-b41f-49c7-b78c-de54ebbbe8fc",
   "metadata": {},
   "outputs": [
    {
     "name": "stderr",
     "output_type": "stream",
     "text": [
      "C:\\Users\\kgg07\\AppData\\Local\\Temp\\ipykernel_26132\\731998398.py:3: FutureWarning: A value is trying to be set on a copy of a DataFrame or Series through chained assignment using an inplace method.\n",
      "The behavior will change in pandas 3.0. This inplace method will never work because the intermediate object on which we are setting values always behaves as a copy.\n",
      "\n",
      "For example, when doing 'df[col].method(value, inplace=True)', try using 'df.method({col: value}, inplace=True)' or df[col] = df[col].method(value) instead, to perform the operation inplace on the original object.\n",
      "\n",
      "\n",
      "  merged_df['average_sentiment'].fillna(2.5, inplace=True)\n"
     ]
    }
   ],
   "source": [
    "# 감정 점수 병합\n",
    "merged_df = pd.merge(df_price, sentiment_by_date, on='date', how='left')\n",
    "merged_df['average_sentiment'].fillna(2.5, inplace=True)"
   ]
  },
  {
   "cell_type": "code",
   "execution_count": 80,
   "id": "11972ba6-7467-4ab5-a300-0a3b8feb7f5e",
   "metadata": {},
   "outputs": [
    {
     "name": "stderr",
     "output_type": "stream",
     "text": [
      "C:\\Users\\kgg07\\anaconda3\\envs\\learning3\\Lib\\site-packages\\sklearn\\base.py:493: UserWarning: X does not have valid feature names, but MinMaxScaler was fitted with feature names\n",
      "  warnings.warn(\n",
      "C:\\Users\\kgg07\\anaconda3\\envs\\learning3\\Lib\\site-packages\\sklearn\\base.py:493: UserWarning: X does not have valid feature names, but MinMaxScaler was fitted with feature names\n",
      "  warnings.warn(\n"
     ]
    }
   ],
   "source": [
    "# 데이터 스케일링\n",
    "scaler = MinMaxScaler()\n",
    "scaler.fit(df_price[['price']])\n",
    "merged_df['scaled_price'] = scaler.transform(merged_df['price'].values.reshape(-1, 1))\n",
    "merged_df['scaled_sentiment'] = scaler.transform(merged_df['average_sentiment'].values.reshape(-1, 1))"
   ]
  },
  {
   "cell_type": "code",
   "execution_count": 81,
   "id": "2cbf3cae-7c1d-4f35-b013-f72c77cf2bc0",
   "metadata": {},
   "outputs": [],
   "source": [
    "# 멀티모달 데이터 생성 함수 정의\n",
    "def create_multimodal_sequences(prices, sentiments, seq_length):\n",
    "    sequences = []\n",
    "    labels = []\n",
    "    for i in range(len(prices) - seq_length):\n",
    "        seq = np.column_stack((prices[i:i + seq_length], sentiments[i:i + seq_length]))\n",
    "        label = prices[i + seq_length]\n",
    "        sequences.append(seq)\n",
    "        labels.append(label)\n",
    "    return np.array(sequences), np.array(labels)"
   ]
  },
  {
   "cell_type": "code",
   "execution_count": 82,
   "id": "6e105d4b-e2e9-4e6d-a065-4d479d99e800",
   "metadata": {},
   "outputs": [],
   "source": [
    "# 멀티모달 데이터 준비\n",
    "sequence_length = 10\n",
    "X, y = create_multimodal_sequences(\n",
    "    merged_df['scaled_price'].values,\n",
    "    merged_df['scaled_sentiment'].values,\n",
    "    sequence_length\n",
    ")\n",
    "X_train, X_test, y_train, y_test = train_test_split(X, y, test_size=0.2, random_state=42)"
   ]
  },
  {
   "cell_type": "code",
   "execution_count": 83,
   "id": "6beac5c8-00f8-4c53-94a2-22c75974c195",
   "metadata": {},
   "outputs": [
    {
     "name": "stderr",
     "output_type": "stream",
     "text": [
      "C:\\Users\\kgg07\\anaconda3\\envs\\learning3\\Lib\\site-packages\\keras\\src\\layers\\rnn\\rnn.py:200: UserWarning: Do not pass an `input_shape`/`input_dim` argument to a layer. When using Sequential models, prefer using an `Input(shape)` object as the first layer in the model instead.\n",
      "  super().__init__(**kwargs)\n"
     ]
    }
   ],
   "source": [
    "# GRU 모델 생성\n",
    "model = Sequential([\n",
    "    GRU(128, input_shape=(sequence_length, 2), return_sequences=True),\n",
    "    Dropout(0.2),\n",
    "    GRU(64),\n",
    "    Dropout(0.2),\n",
    "    Dense(1)\n",
    "])\n",
    "model.compile(optimizer=Adam(learning_rate=0.001), loss='mse')"
   ]
  },
  {
   "cell_type": "code",
   "execution_count": 84,
   "id": "ea8e2690-e67e-426e-beb2-bbe795854dd2",
   "metadata": {},
   "outputs": [
    {
     "name": "stdout",
     "output_type": "stream",
     "text": [
      "Epoch 1/20\n",
      "\u001b[1m10/10\u001b[0m \u001b[32m━━━━━━━━━━━━━━━━━━━━\u001b[0m\u001b[37m\u001b[0m \u001b[1m9s\u001b[0m 151ms/step - loss: 0.0907 - val_loss: 0.0135\n",
      "Epoch 2/20\n",
      "\u001b[1m10/10\u001b[0m \u001b[32m━━━━━━━━━━━━━━━━━━━━\u001b[0m\u001b[37m\u001b[0m \u001b[1m2s\u001b[0m 35ms/step - loss: 0.0149 - val_loss: 0.0049\n",
      "Epoch 3/20\n",
      "\u001b[1m10/10\u001b[0m \u001b[32m━━━━━━━━━━━━━━━━━━━━\u001b[0m\u001b[37m\u001b[0m \u001b[1m0s\u001b[0m 36ms/step - loss: 0.0097 - val_loss: 0.0037\n",
      "Epoch 4/20\n",
      "\u001b[1m10/10\u001b[0m \u001b[32m━━━━━━━━━━━━━━━━━━━━\u001b[0m\u001b[37m\u001b[0m \u001b[1m1s\u001b[0m 32ms/step - loss: 0.0089 - val_loss: 0.0026\n",
      "Epoch 5/20\n",
      "\u001b[1m10/10\u001b[0m \u001b[32m━━━━━━━━━━━━━━━━━━━━\u001b[0m\u001b[37m\u001b[0m \u001b[1m0s\u001b[0m 33ms/step - loss: 0.0058 - val_loss: 0.0026\n",
      "Epoch 6/20\n",
      "\u001b[1m10/10\u001b[0m \u001b[32m━━━━━━━━━━━━━━━━━━━━\u001b[0m\u001b[37m\u001b[0m \u001b[1m0s\u001b[0m 35ms/step - loss: 0.0051 - val_loss: 0.0038\n",
      "Epoch 7/20\n",
      "\u001b[1m10/10\u001b[0m \u001b[32m━━━━━━━━━━━━━━━━━━━━\u001b[0m\u001b[37m\u001b[0m \u001b[1m1s\u001b[0m 37ms/step - loss: 0.0098 - val_loss: 0.0026\n",
      "Epoch 8/20\n",
      "\u001b[1m10/10\u001b[0m \u001b[32m━━━━━━━━━━━━━━━━━━━━\u001b[0m\u001b[37m\u001b[0m \u001b[1m0s\u001b[0m 32ms/step - loss: 0.0048 - val_loss: 0.0027\n",
      "Epoch 9/20\n",
      "\u001b[1m10/10\u001b[0m \u001b[32m━━━━━━━━━━━━━━━━━━━━\u001b[0m\u001b[37m\u001b[0m \u001b[1m1s\u001b[0m 35ms/step - loss: 0.0058 - val_loss: 0.0024\n",
      "Epoch 10/20\n",
      "\u001b[1m10/10\u001b[0m \u001b[32m━━━━━━━━━━━━━━━━━━━━\u001b[0m\u001b[37m\u001b[0m \u001b[1m1s\u001b[0m 38ms/step - loss: 0.0054 - val_loss: 0.0034\n",
      "Epoch 11/20\n",
      "\u001b[1m10/10\u001b[0m \u001b[32m━━━━━━━━━━━━━━━━━━━━\u001b[0m\u001b[37m\u001b[0m \u001b[1m1s\u001b[0m 32ms/step - loss: 0.0053 - val_loss: 0.0044\n",
      "Epoch 12/20\n",
      "\u001b[1m10/10\u001b[0m \u001b[32m━━━━━━━━━━━━━━━━━━━━\u001b[0m\u001b[37m\u001b[0m \u001b[1m1s\u001b[0m 32ms/step - loss: 0.0065 - val_loss: 0.0023\n",
      "Epoch 13/20\n",
      "\u001b[1m10/10\u001b[0m \u001b[32m━━━━━━━━━━━━━━━━━━━━\u001b[0m\u001b[37m\u001b[0m \u001b[1m0s\u001b[0m 35ms/step - loss: 0.0045 - val_loss: 0.0025\n",
      "Epoch 14/20\n",
      "\u001b[1m10/10\u001b[0m \u001b[32m━━━━━━━━━━━━━━━━━━━━\u001b[0m\u001b[37m\u001b[0m \u001b[1m1s\u001b[0m 36ms/step - loss: 0.0052 - val_loss: 0.0022\n",
      "Epoch 15/20\n",
      "\u001b[1m10/10\u001b[0m \u001b[32m━━━━━━━━━━━━━━━━━━━━\u001b[0m\u001b[37m\u001b[0m \u001b[1m1s\u001b[0m 33ms/step - loss: 0.0046 - val_loss: 0.0022\n",
      "Epoch 16/20\n",
      "\u001b[1m10/10\u001b[0m \u001b[32m━━━━━━━━━━━━━━━━━━━━\u001b[0m\u001b[37m\u001b[0m \u001b[1m1s\u001b[0m 34ms/step - loss: 0.0045 - val_loss: 0.0022\n",
      "Epoch 17/20\n",
      "\u001b[1m10/10\u001b[0m \u001b[32m━━━━━━━━━━━━━━━━━━━━\u001b[0m\u001b[37m\u001b[0m \u001b[1m1s\u001b[0m 33ms/step - loss: 0.0026 - val_loss: 0.0026\n",
      "Epoch 18/20\n",
      "\u001b[1m10/10\u001b[0m \u001b[32m━━━━━━━━━━━━━━━━━━━━\u001b[0m\u001b[37m\u001b[0m \u001b[1m1s\u001b[0m 37ms/step - loss: 0.0043 - val_loss: 0.0020\n",
      "Epoch 19/20\n",
      "\u001b[1m10/10\u001b[0m \u001b[32m━━━━━━━━━━━━━━━━━━━━\u001b[0m\u001b[37m\u001b[0m \u001b[1m1s\u001b[0m 38ms/step - loss: 0.0041 - val_loss: 0.0026\n",
      "Epoch 20/20\n",
      "\u001b[1m10/10\u001b[0m \u001b[32m━━━━━━━━━━━━━━━━━━━━\u001b[0m\u001b[37m\u001b[0m \u001b[1m0s\u001b[0m 33ms/step - loss: 0.0046 - val_loss: 0.0027\n"
     ]
    }
   ],
   "source": [
    "# 모델 학습\n",
    "history = model.fit(\n",
    "    X_train, y_train,\n",
    "    validation_data=(X_test, y_test),\n",
    "    epochs=20,\n",
    "    batch_size=16,\n",
    "    callbacks=[EarlyStopping(patience=5, restore_best_weights=True)]\n",
    ")"
   ]
  },
  {
   "cell_type": "code",
   "execution_count": 85,
   "id": "3e657641-6ac0-483a-9e2e-fea64ef98c7e",
   "metadata": {},
   "outputs": [
    {
     "name": "stdout",
     "output_type": "stream",
     "text": [
      "WARNING:tensorflow:5 out of the last 5 calls to <function TensorFlowTrainer.make_predict_function.<locals>.one_step_on_data_distributed at 0x0000017B30B172E0> triggered tf.function retracing. Tracing is expensive and the excessive number of tracings could be due to (1) creating @tf.function repeatedly in a loop, (2) passing tensors with different shapes, (3) passing Python objects instead of tensors. For (1), please define your @tf.function outside of the loop. For (2), @tf.function has reduce_retracing=True option that can avoid unnecessary retracing. For (3), please refer to https://www.tensorflow.org/guide/function#controlling_retracing and https://www.tensorflow.org/api_docs/python/tf/function for  more details.\n",
      "\u001b[1m1/2\u001b[0m \u001b[32m━━━━━━━━━━\u001b[0m\u001b[37m━━━━━━━━━━\u001b[0m \u001b[1m1s\u001b[0m 2s/stepWARNING:tensorflow:6 out of the last 6 calls to <function TensorFlowTrainer.make_predict_function.<locals>.one_step_on_data_distributed at 0x0000017B30B172E0> triggered tf.function retracing. Tracing is expensive and the excessive number of tracings could be due to (1) creating @tf.function repeatedly in a loop, (2) passing tensors with different shapes, (3) passing Python objects instead of tensors. For (1), please define your @tf.function outside of the loop. For (2), @tf.function has reduce_retracing=True option that can avoid unnecessary retracing. For (3), please refer to https://www.tensorflow.org/guide/function#controlling_retracing and https://www.tensorflow.org/api_docs/python/tf/function for  more details.\n",
      "\u001b[1m2/2\u001b[0m \u001b[32m━━━━━━━━━━━━━━━━━━━━\u001b[0m\u001b[37m\u001b[0m \u001b[1m2s\u001b[0m 704ms/step\n"
     ]
    }
   ],
   "source": [
    "# 예측값과 실제값 복원\n",
    "predictions = model.predict(X_test)\n",
    "original_scale_predictions = scaler.inverse_transform(predictions)\n",
    "original_scale_y_test = scaler.inverse_transform(y_test.reshape(-1, 1))"
   ]
  },
  {
   "cell_type": "code",
   "execution_count": 86,
   "id": "d0302d60-eea9-43b3-a501-a138f43d0370",
   "metadata": {},
   "outputs": [
    {
     "name": "stdout",
     "output_type": "stream",
     "text": [
      "샘플 예측값과 실제값:\n",
      "예측값: 135,012,432.00, 실제값: 128,783,000.00\n",
      "예측값: 134,376,576.00, 실제값: 133,802,000.00\n",
      "예측값: 84,819,664.00, 실제값: 84,631,000.00\n",
      "예측값: 80,556,456.00, 실제값: 86,397,000.00\n",
      "예측값: 77,903,344.00, 실제값: 80,930,000.00\n"
     ]
    }
   ],
   "source": [
    "# 결과 출력\n",
    "print(\"샘플 예측값과 실제값:\")\n",
    "for pred, true in zip(original_scale_predictions[:5], original_scale_y_test[:5]):\n",
    "    print(f\"예측값: {pred[0]:,.2f}, 실제값: {true[0]:,.2f}\")"
   ]
  },
  {
   "cell_type": "code",
   "execution_count": 87,
   "id": "05fd1d87-b5a9-4ccf-a5d9-e1df78ce0922",
   "metadata": {},
   "outputs": [
    {
     "data": {
      "image/png": "[encoded data removed]",
      "text/plain": [
       "<Figure size 800x600 with 1 Axes>"
      ]
     },
     "metadata": {},
     "output_type": "display_data"
    }
   ],
   "source": [
    "# 뉴스 감정 분석 결과 시각화\n",
    "sentiment_counts = news_df['sentiment'].value_counts().sort_index()\n",
    "categories = ['부정', '중립', '긍정']\n",
    "counts = [\n",
    "    sentiment_counts.get(1, 0) + sentiment_counts.get(2, 0),\n",
    "    sentiment_counts.get(3, 0),\n",
    "    sentiment_counts.get(4, 0) + sentiment_counts.get(5, 0)\n",
    "]\n",
    "plt.figure(figsize=(8, 6))\n",
    "plt.bar(categories, counts, color=['red', 'gray', 'green'])\n",
    "plt.title('뉴스 감정 분석 결과 분포')\n",
    "plt.xlabel('감정')\n",
    "plt.ylabel('빈도')\n",
    "plt.show()"
   ]
  },
  {
   "cell_type": "code",
   "execution_count": null,
   "id": "2b88ad50-c4a1-452b-b133-e040a2e2fed0",
   "metadata": {},
   "outputs": [],
   "source": [
    "# 예측값과 실제값 비교 시각화\n",
    "plt.figure(figsize=(10, 6))\n",
    "plt.plot(merged_df['date'][-len(original_scale_y_test):], original_scale_y_test, label='실제 가격', color='blue', alpha=0.6)\n",
    "plt.plot(merged_df['date'][-len(original_scale_predictions):], original_scale_predictions, label='예측 가격', color='red', alpha=0.6)\n",
    "\n",
    "# Y축 포맷 설정\n",
    "plt.gca().yaxis.set_major_formatter(ticker.FuncFormatter(lambda x, _: f'{int(x):,}'))\n",
    "plt.title('실제 비트코인 가격과 예측 가격 비교')\n",
    "plt.xlabel('날짜')\n",
    "plt.ylabel('가격 (KRW)')\n",
    "plt.legend()\n",
    "plt.xticks(rotation=45)\n",
    "plt.tight_layout()\n",
    "plt.show()"
   ]
  },
  {
   "cell_type": "code",
   "execution_count": null,
   "id": "b2166d62-1316-4c9f-8733-cd957ee134e2",
   "metadata": {},
   "outputs": [],
   "source": []
  }
 ],
 "metadata": {
  "kernelspec": {
   "display_name": "Python 3 (ipykernel)",
   "language": "python",
   "name": "python3"
  },
  "language_info": {
   "codemirror_mode": {
    "name": "ipython",
    "version": 3
   },
   "file_extension": ".py",
   "mimetype": "text/x-python",
   "name": "python",
   "nbconvert_exporter": "python",
   "pygments_lexer": "ipython3",
   "version": "3.12.4"
  }
 },
 "nbformat": 4,
 "nbformat_minor": 5
}
