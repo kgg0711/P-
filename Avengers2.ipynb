{
 "cells": [
  {
   "cell_type": "code",
   "execution_count": 1,
   "id": "013742e3-619e-435f-9c09-0b78bffad740",
   "metadata": {},
   "outputs": [],
   "source": [
    "import os\n",
    "import numpy as np\n",
    "import pandas as pd\n",
    "import matplotlib.pyplot as plt\n",
    "from transformers import AutoTokenizer, AutoModelForSequenceClassification\n",
    "import torch\n",
    "from sklearn.preprocessing import MinMaxScaler\n",
    "from sklearn.model_selection import train_test_split\n",
    "from tensorflow.keras.models import Sequential\n",
    "from tensorflow.keras.layers import GRU, Dense, Dropout\n",
    "from tensorflow.keras.callbacks import EarlyStopping\n",
    "from tensorflow.keras.optimizers import Adam\n",
    "import requests"
   ]
  },
  {
   "cell_type": "code",
   "execution_count": 2,
   "id": "8cd93700-a6c2-4438-9043-1923c6a50245",
   "metadata": {},
   "outputs": [],
   "source": [
    "plt.rcParams['font.family'] = 'Malgun Gothic'  # Windows: 'Malgun Gothic', MacOS: 'AppleGothic', Linux: 'NanumGothic'\n",
    "plt.rcParams['axes.unicode_minus'] = False     # 그래프에서 마이너스 기호 깨짐 방지"
   ]
  },
  {
   "cell_type": "code",
   "execution_count": 3,
   "id": "d786ac91-3631-40b8-b70b-dd9fa1c88eab",
   "metadata": {},
   "outputs": [],
   "source": [
    "# 네이버 API 인증 정보\n",
    "client_id = 'YaKyDrFyIZDRfIiRAwBj'  # 사용자 아이디\n",
    "client_secret = 'hknmr5WHGm'  # 사용자 시크릿"
   ]
  },
  {
   "cell_type": "code",
   "execution_count": 4,
   "id": "29c3b2d6-e65a-43fe-9763-1dd57ffb18d1",
   "metadata": {},
   "outputs": [],
   "source": [
    "# 업비트 데이터를 가져오는 함수\n",
    "def fetch_upbit_data(market=\"KRW-BTC\", count=200):\n",
    "    url = \"https://api.upbit.com/v1/candles/days\"\n",
    "    params = {\"market\": market, \"count\": count}\n",
    "    response = requests.get(url, params=params)\n",
    "\n",
    "    if response.status_code != 200:\n",
    "        print(f\"업비트 API에서 데이터를 가져오지 못했습니다. 상태 코드: {response.status_code}\")\n",
    "        return None\n",
    "\n",
    "    data = response.json()\n",
    "    df = pd.DataFrame(data)\n",
    "    df = df[[\"candle_date_time_kst\", \"trade_price\"]]\n",
    "    df.columns = [\"date\", \"price\"]\n",
    "    df[\"date\"] = pd.to_datetime(df[\"date\"]).dt.date\n",
    "    df.sort_values(by=\"date\", inplace=True)\n",
    "    return df"
   ]
  },
  {
   "cell_type": "code",
   "execution_count": 5,
   "id": "ac48ce5e-53e7-48ee-a42a-859d2be65f6f",
   "metadata": {},
   "outputs": [],
   "source": [
    "# 뉴스 데이터를 가져오는 함수\n",
    "def fetch_news_data(query, display=10):\n",
    "    url = f\"https://openapi.naver.com/v1/search/news.json?query={query}&display={display}\"\n",
    "    headers = {\n",
    "        \"X-Naver-Client-Id\": client_id,\n",
    "        \"X-Naver-Client-Secret\": client_secret\n",
    "    }\n",
    "    response = requests.get(url, headers=headers)\n",
    "\n",
    "    if response.status_code != 200:\n",
    "        print(f\"뉴스 API에서 데이터를 가져오지 못했습니다. 상태 코드: {response.status_code}\")\n",
    "        return None\n",
    "\n",
    "    data = response.json()\n",
    "    return pd.DataFrame(data['items'])"
   ]
  },
  {
   "cell_type": "code",
   "execution_count": 6,
   "id": "81627923-a33e-4225-b7c5-d9302ffbc67c",
   "metadata": {},
   "outputs": [],
   "source": [
    "# 감정 분석을 위한 함수\n",
    "def analyze_sentiment(texts):\n",
    "    tokenizer = AutoTokenizer.from_pretrained(\"nlptown/bert-base-multilingual-uncased-sentiment\")\n",
    "    model = AutoModelForSequenceClassification.from_pretrained(\"nlptown/bert-base-multilingual-uncased-sentiment\")\n",
    "    sentiments = []\n",
    "\n",
    "    for text in texts:\n",
    "        inputs = tokenizer(text, return_tensors=\"pt\", truncation=True, padding=True, max_length=512)\n",
    "        outputs = model(**inputs)\n",
    "        sentiment = torch.argmax(outputs.logits, dim=1).item() + 1  # 감정 점수: 1~5\n",
    "        sentiments.append(sentiment)\n",
    "\n",
    "    return sentiments"
   ]
  },
  {
   "cell_type": "code",
   "execution_count": 7,
   "id": "185a2514-23ba-4516-83e2-e1f61af73a38",
   "metadata": {},
   "outputs": [],
   "source": [
    "# 멀티모달 데이터 생성 함수\n",
    "def create_multimodal_sequences(prices, sentiments, seq_length):\n",
    "    sequences = []\n",
    "    labels = []\n",
    "    for i in range(len(prices) - seq_length):\n",
    "        seq = np.column_stack((prices[i:i + seq_length], sentiments[i:i + seq_length]))\n",
    "        label = prices[i + seq_length]\n",
    "        sequences.append(seq)\n",
    "        labels.append(label)\n",
    "    return np.array(sequences), np.array(labels)"
   ]
  },
  {
   "cell_type": "code",
   "execution_count": 8,
   "id": "2c60106a-0138-4ac0-8168-f8f78f36ee6d",
   "metadata": {},
   "outputs": [],
   "source": [
    "# BTC/KRW 시장 데이터 가져오기\n",
    "df_price = fetch_upbit_data()\n",
    "if df_price is None:\n",
    "    raise ValueError(\"업비트 데이터를 가져오지 못했습니다.\")"
   ]
  },
  {
   "cell_type": "code",
   "execution_count": 9,
   "id": "6a87b9ad-b598-4681-920e-cb890934e9ef",
   "metadata": {},
   "outputs": [],
   "source": [
    "# 뉴스 데이터 가져오기\n",
    "news_df = fetch_news_data(\"비트코인\")\n",
    "if news_df is None:\n",
    "    raise ValueError(\"뉴스 데이터를 가져오지 못했습니다.\")"
   ]
  },
  {
   "cell_type": "code",
   "execution_count": 13,
   "id": "82c6cbf0-52f8-4291-b357-4cebc12e3b1a",
   "metadata": {},
   "outputs": [],
   "source": [
    "# 뉴스 데이터 날짜별 처리\n",
    "news_df['pubDate'] = pd.to_datetime(news_df['pubDate'], errors='coerce')  # 뉴스 데이터의 날짜 열\n",
    "news_df['date'] = news_df['pubDate'].dt.date  # 날짜만 추출\n",
    "\n",
    "# NaT (not a time) 값이 있을 경우 처리\n",
    "news_df = news_df.dropna(subset=['date'])\n",
    "\n",
    "# 감정 분석 수행\n",
    "news_df['sentiment'] = analyze_sentiment(news_df['title'])  # 뉴스 제목 감정 분석\n",
    "\n",
    "# 날짜별 평균 감정 점수 계산\n",
    "sentiment_by_date = news_df.groupby('date')['sentiment'].mean().reset_index()\n",
    "sentiment_by_date.columns = ['date', 'average_sentiment']"
   ]
  },
  {
   "cell_type": "code",
   "execution_count": 14,
   "id": "f62db6b1-a205-46b2-95fc-f8b7935424d2",
   "metadata": {},
   "outputs": [
    {
     "name": "stderr",
     "output_type": "stream",
     "text": [
      "C:\\Users\\kgg07\\AppData\\Local\\Temp\\ipykernel_22392\\1982430085.py:3: FutureWarning: A value is trying to be set on a copy of a DataFrame or Series through chained assignment using an inplace method.\n",
      "The behavior will change in pandas 3.0. This inplace method will never work because the intermediate object on which we are setting values always behaves as a copy.\n",
      "\n",
      "For example, when doing 'df[col].method(value, inplace=True)', try using 'df.method({col: value}, inplace=True)' or df[col] = df[col].method(value) instead, to perform the operation inplace on the original object.\n",
      "\n",
      "\n",
      "  merged_df['average_sentiment'].fillna(2.5, inplace=True)  # 결측치는 중립 값으로 채움\n"
     ]
    }
   ],
   "source": [
    "# 감정 점수 병합\n",
    "merged_df = pd.merge(df_price, sentiment_by_date, on='date', how='left')\n",
    "merged_df['average_sentiment'].fillna(2.5, inplace=True)  # 결측치는 중립 값으로 채움"
   ]
  },
  {
   "cell_type": "code",
   "execution_count": 15,
   "id": "7d9842a6-d764-4a8e-8351-a64e7289b2b8",
   "metadata": {},
   "outputs": [],
   "source": [
    "# 데이터 스케일링\n",
    "scaler = MinMaxScaler()\n",
    "merged_df['scaled_price'] = scaler.fit_transform(merged_df['price'].values.reshape(-1, 1))\n",
    "merged_df['scaled_sentiment'] = scaler.fit_transform(merged_df['average_sentiment'].values.reshape(-1, 1))"
   ]
  },
  {
   "cell_type": "code",
   "execution_count": 16,
   "id": "9ca55891-c3c7-47d9-8d67-bc6c8a420d6e",
   "metadata": {},
   "outputs": [],
   "source": [
    "# 멀티모달 데이터 준비\n",
    "sequence_length = 10\n",
    "X, y = create_multimodal_sequences(\n",
    "    merged_df['scaled_price'].values,\n",
    "    merged_df['scaled_sentiment'].values,\n",
    "    sequence_length\n",
    ")\n",
    "X_train, X_test, y_train, y_test = train_test_split(X, y, test_size=0.2, random_state=42)"
   ]
  },
  {
   "cell_type": "code",
   "execution_count": 17,
   "id": "a2f4cc2d-f0a3-4fac-8816-882fd0a71302",
   "metadata": {},
   "outputs": [
    {
     "name": "stderr",
     "output_type": "stream",
     "text": [
      "C:\\Users\\kgg07\\anaconda3\\envs\\learning3\\Lib\\site-packages\\keras\\src\\layers\\rnn\\rnn.py:200: UserWarning: Do not pass an `input_shape`/`input_dim` argument to a layer. When using Sequential models, prefer using an `Input(shape)` object as the first layer in the model instead.\n",
      "  super().__init__(**kwargs)\n"
     ]
    }
   ],
   "source": [
    "# GRU 모델 생성\n",
    "model = Sequential([\n",
    "    GRU(128, input_shape=(sequence_length, 2), return_sequences=True),\n",
    "    Dropout(0.2),\n",
    "    GRU(64),\n",
    "    Dropout(0.2),\n",
    "    Dense(1)\n",
    "])"
   ]
  },
  {
   "cell_type": "code",
   "execution_count": 18,
   "id": "c938d95d-0488-464b-8ced-a7de4d884285",
   "metadata": {},
   "outputs": [],
   "source": [
    "model.compile(optimizer=Adam(learning_rate=0.001), loss='mse')"
   ]
  },
  {
   "cell_type": "code",
   "execution_count": 19,
   "id": "19cfa77a-5d37-4822-b5f1-de889753183a",
   "metadata": {},
   "outputs": [
    {
     "name": "stdout",
     "output_type": "stream",
     "text": [
      "Epoch 1/20\n",
      "\u001b[1m10/10\u001b[0m \u001b[32m━━━━━━━━━━━━━━━━━━━━\u001b[0m\u001b[37m\u001b[0m \u001b[1m8s\u001b[0m 126ms/step - loss: 0.0970 - val_loss: 0.0234\n",
      "Epoch 2/20\n",
      "\u001b[1m10/10\u001b[0m \u001b[32m━━━━━━━━━━━━━━━━━━━━\u001b[0m\u001b[37m\u001b[0m \u001b[1m0s\u001b[0m 35ms/step - loss: 0.0143 - val_loss: 0.0098\n",
      "Epoch 3/20\n",
      "\u001b[1m10/10\u001b[0m \u001b[32m━━━━━━━━━━━━━━━━━━━━\u001b[0m\u001b[37m\u001b[0m \u001b[1m0s\u001b[0m 31ms/step - loss: 0.0078 - val_loss: 0.0052\n",
      "Epoch 4/20\n",
      "\u001b[1m10/10\u001b[0m \u001b[32m━━━━━━━━━━━━━━━━━━━━\u001b[0m\u001b[37m\u001b[0m \u001b[1m0s\u001b[0m 40ms/step - loss: 0.0043 - val_loss: 0.0045\n",
      "Epoch 5/20\n",
      "\u001b[1m10/10\u001b[0m \u001b[32m━━━━━━━━━━━━━━━━━━━━\u001b[0m\u001b[37m\u001b[0m \u001b[1m1s\u001b[0m 37ms/step - loss: 0.0054 - val_loss: 0.0035\n",
      "Epoch 6/20\n",
      "\u001b[1m10/10\u001b[0m \u001b[32m━━━━━━━━━━━━━━━━━━━━\u001b[0m\u001b[37m\u001b[0m \u001b[1m0s\u001b[0m 34ms/step - loss: 0.0063 - val_loss: 0.0030\n",
      "Epoch 7/20\n",
      "\u001b[1m10/10\u001b[0m \u001b[32m━━━━━━━━━━━━━━━━━━━━\u001b[0m\u001b[37m\u001b[0m \u001b[1m0s\u001b[0m 33ms/step - loss: 0.0055 - val_loss: 0.0025\n",
      "Epoch 8/20\n",
      "\u001b[1m10/10\u001b[0m \u001b[32m━━━━━━━━━━━━━━━━━━━━\u001b[0m\u001b[37m\u001b[0m \u001b[1m0s\u001b[0m 29ms/step - loss: 0.0052 - val_loss: 0.0030\n",
      "Epoch 9/20\n",
      "\u001b[1m10/10\u001b[0m \u001b[32m━━━━━━━━━━━━━━━━━━━━\u001b[0m\u001b[37m\u001b[0m \u001b[1m0s\u001b[0m 32ms/step - loss: 0.0044 - val_loss: 0.0025\n",
      "Epoch 10/20\n",
      "\u001b[1m10/10\u001b[0m \u001b[32m━━━━━━━━━━━━━━━━━━━━\u001b[0m\u001b[37m\u001b[0m \u001b[1m0s\u001b[0m 31ms/step - loss: 0.0053 - val_loss: 0.0026\n",
      "Epoch 11/20\n",
      "\u001b[1m10/10\u001b[0m \u001b[32m━━━━━━━━━━━━━━━━━━━━\u001b[0m\u001b[37m\u001b[0m \u001b[1m0s\u001b[0m 33ms/step - loss: 0.0034 - val_loss: 0.0025\n",
      "Epoch 12/20\n",
      "\u001b[1m10/10\u001b[0m \u001b[32m━━━━━━━━━━━━━━━━━━━━\u001b[0m\u001b[37m\u001b[0m \u001b[1m1s\u001b[0m 34ms/step - loss: 0.0031 - val_loss: 0.0024\n",
      "Epoch 13/20\n",
      "\u001b[1m10/10\u001b[0m \u001b[32m━━━━━━━━━━━━━━━━━━━━\u001b[0m\u001b[37m\u001b[0m \u001b[1m0s\u001b[0m 31ms/step - loss: 0.0031 - val_loss: 0.0022\n",
      "Epoch 14/20\n",
      "\u001b[1m10/10\u001b[0m \u001b[32m━━━━━━━━━━━━━━━━━━━━\u001b[0m\u001b[37m\u001b[0m \u001b[1m0s\u001b[0m 32ms/step - loss: 0.0039 - val_loss: 0.0023\n",
      "Epoch 15/20\n",
      "\u001b[1m10/10\u001b[0m \u001b[32m━━━━━━━━━━━━━━━━━━━━\u001b[0m\u001b[37m\u001b[0m \u001b[1m0s\u001b[0m 30ms/step - loss: 0.0031 - val_loss: 0.0025\n",
      "Epoch 16/20\n",
      "\u001b[1m10/10\u001b[0m \u001b[32m━━━━━━━━━━━━━━━━━━━━\u001b[0m\u001b[37m\u001b[0m \u001b[1m0s\u001b[0m 42ms/step - loss: 0.0036 - val_loss: 0.0021\n",
      "Epoch 17/20\n",
      "\u001b[1m10/10\u001b[0m \u001b[32m━━━━━━━━━━━━━━━━━━━━\u001b[0m\u001b[37m\u001b[0m \u001b[1m0s\u001b[0m 34ms/step - loss: 0.0026 - val_loss: 0.0021\n",
      "Epoch 18/20\n",
      "\u001b[1m10/10\u001b[0m \u001b[32m━━━━━━━━━━━━━━━━━━━━\u001b[0m\u001b[37m\u001b[0m \u001b[1m0s\u001b[0m 31ms/step - loss: 0.0036 - val_loss: 0.0021\n",
      "Epoch 19/20\n",
      "\u001b[1m10/10\u001b[0m \u001b[32m━━━━━━━━━━━━━━━━━━━━\u001b[0m\u001b[37m\u001b[0m \u001b[1m1s\u001b[0m 36ms/step - loss: 0.0039 - val_loss: 0.0020\n",
      "Epoch 20/20\n",
      "\u001b[1m10/10\u001b[0m \u001b[32m━━━━━━━━━━━━━━━━━━━━\u001b[0m\u001b[37m\u001b[0m \u001b[1m0s\u001b[0m 32ms/step - loss: 0.0028 - val_loss: 0.0023\n"
     ]
    }
   ],
   "source": [
    "# 모델 학습\n",
    "history = model.fit(\n",
    "    X_train, y_train,\n",
    "    validation_data=(X_test, y_test),\n",
    "    epochs=20,\n",
    "    batch_size=16,\n",
    "    callbacks=[EarlyStopping(patience=5, restore_best_weights=True)]\n",
    ")"
   ]
  },
  {
   "cell_type": "code",
   "execution_count": 20,
   "id": "df9527cc-962a-4bbd-90c1-36bb6dafe1a9",
   "metadata": {},
   "outputs": [
    {
     "name": "stdout",
     "output_type": "stream",
     "text": [
      "\u001b[1m2/2\u001b[0m \u001b[32m━━━━━━━━━━━━━━━━━━━━\u001b[0m\u001b[37m\u001b[0m \u001b[1m0s\u001b[0m 51ms/step - loss: 0.0021\n",
      "테스트 손실: 0.0020322808995842934\n"
     ]
    }
   ],
   "source": [
    "# 모델 평가\n",
    "loss = model.evaluate(X_test, y_test)\n",
    "print(f\"테스트 손실: {loss}\")"
   ]
  },
  {
   "cell_type": "code",
   "execution_count": 21,
   "id": "f676f521-9ca3-4210-9a76-e735cc55bba1",
   "metadata": {},
   "outputs": [
    {
     "name": "stdout",
     "output_type": "stream",
     "text": [
      "\u001b[1m2/2\u001b[0m \u001b[32m━━━━━━━━━━━━━━━━━━━━\u001b[0m\u001b[37m\u001b[0m \u001b[1m1s\u001b[0m 762ms/step\n"
     ]
    }
   ],
   "source": [
    "# 예측값과 실제값 비교\n",
    "predictions = model.predict(X_test)\n",
    "original_scale_predictions = scaler.inverse_transform(predictions)\n",
    "original_scale_y_test = scaler.inverse_transform(y_test.reshape(-1, 1))"
   ]
  },
  {
   "cell_type": "code",
   "execution_count": 22,
   "id": "7f889361-69e1-4b43-8c18-bcae3ac41709",
   "metadata": {},
   "outputs": [
    {
     "name": "stdout",
     "output_type": "stream",
     "text": [
      "샘플 예측값과 실제값:\n",
      "예측값: 2.77, 실제값: 2.75\n",
      "예측값: 2.77, 실제값: 2.77\n",
      "예측값: 2.55, 실제값: 2.55\n",
      "예측값: 2.53, 실제값: 2.56\n",
      "예측값: 2.52, 실제값: 2.53\n"
     ]
    }
   ],
   "source": [
    "print(\"샘플 예측값과 실제값:\")\n",
    "for pred, true in zip(original_scale_predictions[:5], original_scale_y_test[:5]):\n",
    "    print(f\"예측값: {pred[0]:.2f}, 실제값: {true[0]:.2f}\")\n"
   ]
  },
  {
   "cell_type": "code",
   "execution_count": 23,
   "id": "a2c61567-c178-4580-b949-430c3599c70a",
   "metadata": {},
   "outputs": [],
   "source": [
    "# 감정 분석 결과의 분포 (긍정, 중립, 부정)\n",
    "sentiment_counts = news_df['sentiment'].value_counts().sort_index()"
   ]
  },
  {
   "cell_type": "code",
   "execution_count": 25,
   "id": "028004b9-dde5-4eae-86bb-5834fee20ede",
   "metadata": {},
   "outputs": [
    {
     "ename": "TypeError",
     "evalue": "Series.reindex() got an unexpected keyword argument 'fillvalue'",
     "output_type": "error",
     "traceback": [
      "\u001b[1;31m---------------------------------------------------------------------------\u001b[0m",
      "\u001b[1;31mTypeError\u001b[0m                                 Traceback (most recent call last)",
      "Cell \u001b[1;32mIn[25], line 5\u001b[0m\n\u001b[0;32m      2\u001b[0m sentiment_counts \u001b[38;5;241m=\u001b[39m pd\u001b[38;5;241m.\u001b[39mSeries(news_df[\u001b[38;5;124m'\u001b[39m\u001b[38;5;124msentiment\u001b[39m\u001b[38;5;124m'\u001b[39m]\u001b[38;5;241m.\u001b[39mvalue_counts())\u001b[38;5;241m.\u001b[39msort_index()\n\u001b[0;32m      4\u001b[0m \u001b[38;5;66;03m# 1부터 5까지 점수의 카운트가 없다면 기본 값 0으로 처리\u001b[39;00m\n\u001b[1;32m----> 5\u001b[0m sentiment_counts \u001b[38;5;241m=\u001b[39m sentiment_counts\u001b[38;5;241m.\u001b[39mreindex([\u001b[38;5;241m1\u001b[39m, \u001b[38;5;241m2\u001b[39m, \u001b[38;5;241m3\u001b[39m, \u001b[38;5;241m4\u001b[39m, \u001b[38;5;241m5\u001b[39m], fillvalue\u001b[38;5;241m=\u001b[39m\u001b[38;5;241m0\u001b[39m)\n\u001b[0;32m      7\u001b[0m \u001b[38;5;66;03m# 감정 점수의 구간을 정의 (1~5 점)\u001b[39;00m\n\u001b[0;32m      8\u001b[0m sentiment_labels \u001b[38;5;241m=\u001b[39m [\u001b[38;5;124m'\u001b[39m\u001b[38;5;124m부정\u001b[39m\u001b[38;5;124m'\u001b[39m, \u001b[38;5;124m'\u001b[39m\u001b[38;5;124m중립\u001b[39m\u001b[38;5;124m'\u001b[39m, \u001b[38;5;124m'\u001b[39m\u001b[38;5;124m긍정\u001b[39m\u001b[38;5;124m'\u001b[39m]\n",
      "\u001b[1;31mTypeError\u001b[0m: Series.reindex() got an unexpected keyword argument 'fillvalue'"
     ]
    }
   ],
   "source": [
    "#"
   ]
  },
  {
   "cell_type": "code",
   "execution_count": null,
   "id": "616d8c58-2aa1-4e9a-a8a9-7e337cf1a81a",
   "metadata": {},
   "outputs": [],
   "source": []
  }
 ],
 "metadata": {
  "kernelspec": {
   "display_name": "Python 3 (ipykernel)",
   "language": "python",
   "name": "python3"
  },
  "language_info": {
   "codemirror_mode": {
    "name": "ipython",
    "version": 3
   },
   "file_extension": ".py",
   "mimetype": "text/x-python",
   "name": "python",
   "nbconvert_exporter": "python",
   "pygments_lexer": "ipython3",
   "version": "3.12.4"
  }
 },
 "nbformat": 4,
 "nbformat_minor": 5
}
