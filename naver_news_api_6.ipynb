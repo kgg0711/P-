{
 "cells": [
  {
   "cell_type": "code",
   "execution_count": 40,
   "id": "4a7fb01c-b026-40ef-ab05-f78bc98f4981",
   "metadata": {},
   "outputs": [],
   "source": [
    "import os\n",
    "import urllib.request\n",
    "import json\n",
    "import pandas as pd\n",
    "import matplotlib.pyplot as plt\n",
    "from transformers import AutoTokenizer, AutoModelForSequenceClassification\n",
    "import torch\n",
    "import time"
   ]
  },
  {
   "cell_type": "code",
   "execution_count": 41,
   "id": "9e8a39d0-88fe-40a2-9329-4eef67e4b163",
   "metadata": {},
   "outputs": [],
   "source": [
    "# 한글 폰트 설정\n",
    "plt.rcParams['font.family'] = 'Malgun Gothic'  # Windows: 'Malgun Gothic', MacOS: 'AppleGothic', Linux: 'NanumGothic'\n",
    "plt.rcParams['axes.unicode_minus'] = False     # 마이너스 기호 깨짐 방지"
   ]
  },
  {
   "cell_type": "code",
   "execution_count": 42,
   "id": "83a3a3f3-4ae4-4763-8580-8b8f08845673",
   "metadata": {},
   "outputs": [],
   "source": [
    "# 네이버 API 키 설정\n",
    "client_id = 'YaKyDrFyIZDRfIiRAwBj'\n",
    "client_secret = 'hknmr5WHGm'"
   ]
  },
  {
   "cell_type": "code",
   "execution_count": 43,
   "id": "b45ac77e-7323-44d5-a277-6f9d449a6470",
   "metadata": {},
   "outputs": [],
   "source": [
    "# KoBERT Fine-tuned 모델 로드\n",
    "def load_sentiment_model():\n",
    "    model_name = \"beomi/kcbert-base\"  # KoBERT 기반 공개 모델\n",
    "    tokenizer = AutoTokenizer.from_pretrained(model_name, cache_dir=\"./model_cache\")\n",
    "    model = AutoModelForSequenceClassification.from_pretrained(\n",
    "        model_name, num_labels=3, cache_dir=\"./model_cache\"\n",
    "    )\n",
    "    device = torch.device(\"cuda\" if torch.cuda.is_available() else \"cpu\")\n",
    "    model.to(device)\n",
    "    return tokenizer, model, device"
   ]
  },
  {
   "cell_type": "code",
   "execution_count": 44,
   "id": "dbb24cfb-219a-469b-a050-c213d7ec976e",
   "metadata": {},
   "outputs": [],
   "source": [
    "# 뉴스 데이터 수집 함수\n",
    "def get_news_data(client_id, client_secret, query, display=10, start=1, sort='date'):\n",
    "    enc_text = urllib.parse.quote(query)\n",
    "    url = f\"https://openapi.naver.com/v1/search/news?query={enc_text}&display={display}&start={start}&sort={sort}\"\n",
    "    \n",
    "    request = urllib.request.Request(url)\n",
    "    request.add_header(\"X-Naver-Client-Id\", client_id)\n",
    "    request.add_header(\"X-Naver-Client-Secret\", client_secret)\n",
    "    \n",
    "    response = urllib.request.urlopen(request)\n",
    "    rescode = response.getcode()\n",
    "    \n",
    "    if rescode == 200:\n",
    "        response_body = response.read()\n",
    "        response_json = json.loads(response_body)\n",
    "        return pd.DataFrame(response_json['items'])\n",
    "    else:\n",
    "        print(f\"Error Code: {rescode}\")\n",
    "        return pd.DataFrame()"
   ]
  },
  {
   "cell_type": "code",
   "execution_count": 45,
   "id": "7e6d56df-5898-4f9c-8aa0-142010b448ad",
   "metadata": {},
   "outputs": [],
   "source": [
    "# 날짜 필터링 함수\n",
    "def filter_by_date(news_data, year):\n",
    "    news_data['pubDate'] = pd.to_datetime(news_data['pubDate'], errors='coerce')  # 날짜 형식으로 변환\n",
    "    news_data = news_data.dropna(subset=['pubDate'])  # 유효한 날짜가 없는 데이터 제거\n",
    "    news_data = news_data[news_data['pubDate'].dt.year == year]  # 특정 연도 필터링\n",
    "    news_data['Date'] = news_data['pubDate'].dt.strftime('%Y-%m-%d')  # YYYY-MM-DD 형식 생성\n",
    "    return news_data"
   ]
  },
  {
   "cell_type": "code",
   "execution_count": 46,
   "id": "82d56145-4fc1-4c14-ac08-a7a41cd5a46c",
   "metadata": {},
   "outputs": [],
   "source": [
    "# 배치 감정 분석 함수\n",
    "def batch_analyze_sentiments(texts, tokenizer, model, device):\n",
    "    inputs = tokenizer(\n",
    "        texts,\n",
    "        return_tensors=\"pt\",\n",
    "        truncation=True,\n",
    "        max_length=300,  # 입력 텍스트를 300 토큰으로 제한\n",
    "        padding=True\n",
    "    ).to(device)\n",
    "    with torch.no_grad():\n",
    "        outputs = model(**inputs)\n",
    "    logits = outputs.logits\n",
    "    sentiments = torch.argmax(logits, dim=-1).tolist()\n",
    "    sentiment_map = {0: \"부정\", 1: \"중립\", 2: \"긍정\"}\n",
    "    return [sentiment_map[s] for s in sentiments]"
   ]
  },
  {
   "cell_type": "code",
   "execution_count": 47,
   "id": "2d917b6c-8447-4331-88fb-94b89961a42f",
   "metadata": {},
   "outputs": [],
   "source": [
    "# 시각화 함수\n",
    "def plot_sentiment_distribution(sentiment_count, query):\n",
    "    sentiment_count.plot(kind='bar', stacked=True, figsize=(12, 6), colormap='coolwarm')\n",
    "    plt.title(f\"뉴스 검색어 '{query}' 날짜별 감정 분석 결과\")\n",
    "    plt.xlabel(\"날짜\")\n",
    "    plt.ylabel(\"감정 건수\")\n",
    "    plt.xticks(rotation=90)\n",
    "    plt.tight_layout()\n",
    "    plt.show()"
   ]
  },
  {
   "cell_type": "code",
   "execution_count": 50,
   "id": "66f53682-3432-41a3-a1dc-a30b3f9caee3",
   "metadata": {},
   "outputs": [],
   "source": [
    "# 메인 함수\n",
    "def main():\n",
    "    query = \"비트코인\"\n",
    "    display = 100  # 한 번에 가져올 뉴스 데이터 수\n",
    "    num_requests = 3  # 가져올 페이지 수 (100개씩)\n",
    "    year = 2024  # 필터링할 연도\n",
    "    sort = \"date\"  # 날짜순 정렬\n",
    "\n",
    "    # KoBERT 모델 로드\n",
    "    tokenizer, model, device = load_sentiment_model()\n",
    "\n",
    "    # 뉴스 데이터 수집\n",
    "    result_all = pd.DataFrame()\n",
    "    for i in range(num_requests):\n",
    "        start = 1 + display * i\n",
    "        result = get_news_data(client_id, client_secret, query, display, start, sort)\n",
    "        result_all = pd.concat([result_all, result])\n",
    "        time.sleep(1)  # API 호출 간 간격 추가\n",
    "        result_all = pd.concat([result_all, result])\n",
    "       \n",
    "    # 날짜 필터링\n",
    "    result_all = filter_by_date(result_all, year)\n",
    "\n",
    "    if result_all.empty:\n",
    "        print(f\"{year}년의 뉴스 데이터가 없습니다.\")\n",
    "        return\n",
    "\n",
    "    # 감정 분석 수행\n",
    "    descriptions = result_all['description'].str.replace('<b>', '').str.replace('</b>', '').tolist()\n",
    "    result_all['Sentiment'] = batch_analyze_sentiments(descriptions, tokenizer, model, device)\n",
    "\n",
    "    # 날짜 및 감정별 집계\n",
    "    sentiment_count = result_all.groupby(['Date', 'Sentiment']).size().unstack(fill_value=0)\n",
    "\n",
    "    # 결과 출력\n",
    "    print(sentiment_count)\n",
    "\n",
    "    # 그래프 생성\n",
    "    plot_sentiment_distribution(sentiment_count, query)\n"
   ]
  },
  {
   "cell_type": "code",
   "execution_count": 51,
   "id": "0d1cde42-0351-4192-adce-7112e0a304c4",
   "metadata": {
    "scrolled": true
   },
   "outputs": [
    {
     "name": "stderr",
     "output_type": "stream",
     "text": [
      "Some weights of BertForSequenceClassification were not initialized from the model checkpoint at beomi/kcbert-base and are newly initialized: ['classifier.bias', 'classifier.weight']\n",
      "You should probably TRAIN this model on a down-stream task to be able to use it for predictions and inference.\n"
     ]
    },
    {
     "name": "stdout",
     "output_type": "stream",
     "text": [
      "Sentiment   긍정  부정   중립\n",
      "Date                   \n",
      "2024-12-06  68   2  130\n",
      "2024-12-07  82   4  140\n",
      "2024-12-08  62   4  108\n"
     ]
    },
    {
     "data": {
      "image/png": "[encoded data removed]",
      "text/plain": [
       "<Figure size 1200x600 with 1 Axes>"
      ]
     },
     "metadata": {},
     "output_type": "display_data"
    }
   ],
   "source": [
    "if __name__ == \"__main__\":\n",
    "    main()"
   ]
  },
  {
   "cell_type": "code",
   "execution_count": null,
   "id": "1cebf6b4-d792-4be8-8c86-f92b587a110c",
   "metadata": {},
   "outputs": [],
   "source": []
  }
 ],
 "metadata": {
  "kernelspec": {
   "display_name": "Python 3 (ipykernel)",
   "language": "python",
   "name": "python3"
  },
  "language_info": {
   "codemirror_mode": {
    "name": "ipython",
    "version": 3
   },
   "file_extension": ".py",
   "mimetype": "text/x-python",
   "name": "python",
   "nbconvert_exporter": "python",
   "pygments_lexer": "ipython3",
   "version": "3.12.4"
  }
 },
 "nbformat": 4,
 "nbformat_minor": 5
}
